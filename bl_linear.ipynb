{
 "cells": [
  {
   "cell_type": "markdown",
   "metadata": {},
   "source": [
    "# Beam Loading in the linear regime (beam driver)\n",
    "\n",
    "Notebook developed by Lance Hildebrand using scripts made by Yujian Zhao\n",
    "\n",
    "## Theory\n",
    "\n",
    "In general, each slice of a beam in a wakefield will be accelerated at different rates due to the variation in the accelerating field, $E_z$. This will lead energy spread growth in the beam, which usually isn't desirable. The way to avoid this issue is called beam loading the wake.\n",
    "\n",
    "In this notebook, we will focus on the linear regime, specifically a two-bunch scenario. Here the idea is quite simple. The total $E_z$ felt by the witness bunch will be the field created by the driver plus the one created by itself, via superposition. Therefore, for given drive bunch parameters, we can calulate the wake and therefore we can tailor a witness beam with a profile that will create a wake that will flatten the total field (first shown in Katsouleas et al., 1986). We know in the linear regime the wake behind the driver goes as $\\cos\\xi$. So we need a witness bunch with a wake that has an cosine part $\\pi$ out of phase with the driver to cancel the $\\xi$ dependence of the wake and a constant part equal to the value of the driver wake at the head of the witness bunch. It turns out a triangular shaped bunch can create such a wake. Gaussian beams can load a wake approximately but not perfectly. Now let's look at the math. For all of the following we will use normalized units.\n",
    "\n",
    "The triangular bunch has four parameters we can tune: the max charge density, the transverse spot size, and the location of the head and the tail of the bunch. The profile is of the form (using $\\xi=ct-z$)\n",
    "\n",
    "$\\displaystyle \\rho=\\rho_0\\frac{\\xi_f-\\xi}{\\xi_f-\\xi_0}$.\n",
    "\n",
    "We can calculate the on-axis field from this exactly (c.f. linear pwfa notebook),\n",
    "\n",
    "$\\displaystyle E_{z,w}=-R_w(0)\\frac{\\rho_0}{\\xi_f-\\xi_0} \\int_{\\xi_0}^\\xi d\\xi' (\\xi_f-\\xi') \\cos (\\xi-\\xi')$,\n",
    "\n",
    "where $R_w(0)$ is the radial function on-axis for the witness beam defined in the linear pwfa notebook. We have\n",
    "\n",
    "$\\displaystyle E_{z,w}=-R_w(0)\\frac{\\rho_0}{\\xi_f-\\xi_0}\\left[ (\\xi_f-\\xi_0)\\sin (\\xi-\\xi_0)+\\cos (\\xi-\\xi_0)-1 \\right]$.\n",
    "\n",
    "We can use trig identites to separate $\\sin\\xi$ and $\\cos\\xi$ terms,\n",
    "\n",
    "$\\displaystyle E_{z,w}=-R_w(0)\\frac{\\rho_0}{\\xi_f-\\xi_0}\\left[ \\left(\\sin\\xi_0+(\\xi_f-\\xi_0)\\cos\\xi_0\\right)\\sin\\xi+\\left(\\cos\\xi_0-(\\xi_f-\\xi_0)\\sin\\xi_0\\right)\\cos\\xi -1 \\right]$.\n",
    "\n",
    "Alright, now we want to choose parameters such that the $\\sin\\xi$ term goes away and the coefficient on the $\\cos\\xi$ is opposite of the driver amplitude, call it $E_0$ for now. The astute observer will notice we have one more constraint that the constant here needs to be $E_0\\cos\\xi_0$. We will see this is redundant with the second one. The constraints are\n",
    "\n",
    "$\\displaystyle (\\xi_f-\\xi_0)\\cos\\xi=-\\sin\\xi$\n",
    "\n",
    "$\\displaystyle \\cos\\xi-(\\xi_f-\\xi_0)\\sin\\xi_0=\\frac{(\\xi_f-\\xi_0)E_0}{R_w(0)\\rho_0}$,\n",
    "\n",
    "or, simplified,\n",
    "\n",
    "$\\displaystyle \\xi_f=\\xi_0-\\tan\\xi_0$\n",
    "\n",
    "$\\displaystyle \\frac{\\rho_0 R_w(0)}{E_0}=-\\sin\\xi_0$.\n",
    "\n",
    "We have one degree of freedom. So say for example we know the beam separation, then these constraints will tell us how long and how much charge we need to flatten the wake. \n",
    "\n",
    "An important thing to note is that if we are loading with an electron beam we need the slope of the wake to be negative at the head of the beam, i.e. $\\pi/2<\\xi_0<\\pi$. If you are loading with positive charge you would need to put it in $3\\pi/2<\\xi_0<2\\pi$.\n",
    "\n",
    "For reference,\n",
    "\n",
    "$\\displaystyle E_0=\\rho_{0}R(0)\\sqrt{2\\pi}\\sigma_{z}e^{-\\sigma_{z}^2/2}$\n",
    "\n",
    "for a Gaussian bunch, and\n",
    "\n",
    "$\\displaystyle R(0)=\\frac{1}{2}\\sigma_r^2 e^{\\sigma_r^2/2}\\Gamma\\left(0,\\sigma_r^2/2\\right)$\n",
    "\n",
    "for a transverse Gaussian profile, where $\\Gamma(n,x)=\\int_x^\\infty t^{n-1}e^{-t}dt$.\n",
    "\n",
    "The next cell will allow you to explore beam loading with different drive and witness bunch parameters using these analytic formulas. The followings cells will allow you to use your predictions to set up and run a QuickPIC simulation to confirm the parameters you calculated load the wake."
   ]
  },
  {
   "cell_type": "code",
   "execution_count": 1,
   "metadata": {},
   "outputs": [],
   "source": [
    "from importlib import reload\n",
    "import wakeplot"
   ]
  },
  {
   "cell_type": "code",
   "execution_count": 8,
   "metadata": {},
   "outputs": [
    {
     "data": {
      "application/vnd.jupyter.widget-view+json": {
       "model_id": "b5c1ccda5e2041b386ddbc068fb3bf4e",
       "version_major": 2,
       "version_minor": 0
      },
      "text/plain": [
       "interactive(children=(FloatSlider(value=2.0, continuous_update=False, description='z1_w', max=3.1, min=1.6, st…"
      ]
     },
     "metadata": {},
     "output_type": "display_data"
    },
    {
     "data": {
      "application/vnd.jupyter.widget-view+json": {
       "model_id": "3b4d5a871f2f484b9d93d8cf9fbb097e",
       "version_major": 2,
       "version_minor": 0
      },
      "text/plain": [
       "interactive(children=(SelectionSlider(continuous_update=False, description='nb_w', options=(('9.163e-05', 9.16…"
      ]
     },
     "metadata": {},
     "output_type": "display_data"
    }
   ],
   "source": [
    "wakeplot = reload(wakeplot)\n",
    "\n",
    "#Specify xi dimensions (shouldn't have to change this)\n",
    "indz=8     #number of cells\n",
    "box_z=[-3.0,10.0]     #min and max xi values\n",
    "\n",
    "#Specify drive beam parameters (all in normalized units)\n",
    "nb_driver=0.001   #beam denisty of driver normalized to the plasma density\n",
    "z_center_driver=0.0     #location of the center of the drive beam profile\n",
    "sigma_r_driver=0.5     #transv. spot size of the driver \n",
    "sigma_z_driver=0.4     #long. spot size of the driver\n",
    "\n",
    "#Specify witness beam parameters\n",
    "#### for positrons just specify nb_witness to be negative (note on the second plot the slider will still show as positive even though it's really negative)\n",
    "nb_witness=0.062     #beam denisty of witness beam normalized to the plasma density (will result in error if density is out of the appropriate range)\n",
    "z_front_witness=2.0    #location of the front of th\\e witness beam (between pi/2 and pi)\n",
    "z_back_witness=z_front_witness+0.8     #location of the back of the witness beam\n",
    "sigma_r_witness=0.5   #transv. spot size of the witness beam\n",
    "\n",
    "use_theory=True      #calculate the two free parameters from theory given the slider parameter. (if true the wake will always be flattened)\n",
    "use_fixed_length=True     #for first plot (if use theory is false), this will force the beam to maintain the initially specified length\n",
    "\n",
    "wakeplot.z1_interact(box_z,indz,nb_driver,z_center_driver,sigma_r_driver,sigma_z_driver,\n",
    "                     nb_witness,sigma_r_witness,z_front_witness,z_back_witness,use_fixed_length,use_theory)"
   ]
  },
  {
   "cell_type": "markdown",
   "metadata": {},
   "source": [
    "## Simulation\n",
    "### 1. Make an input file"
   ]
  },
  {
   "cell_type": "code",
   "execution_count": null,
   "metadata": {
    "scrolled": false
   },
   "outputs": [],
   "source": [
    "from importlib import reload\n",
    "import qphelper\n",
    "qphelper = reload(qphelper)\n",
    "qphelper.makeWidgetsForInput()"
   ]
  },
  {
   "cell_type": "markdown",
   "metadata": {},
   "source": [
    "### 2. Run QuickPIC simulation"
   ]
  },
  {
   "cell_type": "code",
   "execution_count": null,
   "metadata": {},
   "outputs": [],
   "source": [
    "import quickpic\n",
    "qphelper.deleteAllOutput()\n",
    "quickpic.runqpic(rundir='rundir',inputfile='qpinput.json')"
   ]
  },
  {
   "cell_type": "markdown",
   "metadata": {},
   "source": [
    "### 3. Visualize the output data"
   ]
  },
  {
   "cell_type": "code",
   "execution_count": null,
   "metadata": {
    "scrolled": false
   },
   "outputs": [],
   "source": [
    "qphelper = reload(qphelper)\n",
    "qphelper.makeplot('rundir')"
   ]
  },
  {
   "cell_type": "code",
   "execution_count": null,
   "metadata": {},
   "outputs": [],
   "source": []
  }
 ],
 "metadata": {
  "kernelspec": {
   "display_name": "Python 3",
   "language": "python",
   "name": "python3"
  },
  "language_info": {
   "codemirror_mode": {
    "name": "ipython",
    "version": 3
   },
   "file_extension": ".py",
   "mimetype": "text/x-python",
   "name": "python",
   "nbconvert_exporter": "python",
   "pygments_lexer": "ipython3",
   "version": "3.7.3"
  }
 },
 "nbformat": 4,
 "nbformat_minor": 2
}
